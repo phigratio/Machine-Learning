{
  "nbformat": 4,
  "nbformat_minor": 0,
  "metadata": {
    "colab": {
      "provenance": [],
      "authorship_tag": "ABX9TyOKMjyaZXBhk7bf2wa5pVdN",
      "include_colab_link": true
    },
    "kernelspec": {
      "name": "python3",
      "display_name": "Python 3"
    },
    "language_info": {
      "name": "python"
    }
  },
  "cells": [
    {
      "cell_type": "markdown",
      "metadata": {
        "id": "view-in-github",
        "colab_type": "text"
      },
      "source": [
        "<a href=\"https://colab.research.google.com/github/phigratio/Machine-Learning/blob/main/Numpy.ipynb\" target=\"_parent\"><img src=\"https://colab.research.google.com/assets/colab-badge.svg\" alt=\"Open In Colab\"/></a>"
      ]
    },
    {
      "cell_type": "code",
      "execution_count": 24,
      "metadata": {
        "colab": {
          "base_uri": "https://localhost:8080/"
        },
        "id": "iXp9_g1SwhZ9",
        "outputId": "57d1c442-5c0a-4287-e405-cd01014a9a30"
      },
      "outputs": [
        {
          "output_type": "stream",
          "name": "stdout",
          "text": [
            "[1 2 3]\n",
            "<class 'numpy.ndarray'>\n"
          ]
        }
      ],
      "source": [
        "#np.array\n",
        "import numpy as np\n",
        "a=np.array([1,2,3])\n",
        "print(a)\n",
        "print(type(a))"
      ]
    },
    {
      "cell_type": "code",
      "source": [
        "# 2D and 3D array\n",
        "a=np.array([[1,2],[4,5]],dtype=float)\n",
        "print(a)\n",
        "b=np.array([[[1,2],[3,4]],[[5,6],[7,8]]])\n",
        "print(b)"
      ],
      "metadata": {
        "colab": {
          "base_uri": "https://localhost:8080/"
        },
        "id": "NDb73ew2zd12",
        "outputId": "9d93c8af-380b-4cd2-c558-a9dea0aa1095"
      },
      "execution_count": 25,
      "outputs": [
        {
          "output_type": "stream",
          "name": "stdout",
          "text": [
            "[[1. 2.]\n",
            " [4. 5.]]\n",
            "[[[1 2]\n",
            "  [3 4]]\n",
            "\n",
            " [[5 6]\n",
            "  [7 8]]]\n"
          ]
        }
      ]
    },
    {
      "cell_type": "code",
      "source": [
        "#np.arange\n",
        "np.arange(1,11)"
      ],
      "metadata": {
        "colab": {
          "base_uri": "https://localhost:8080/"
        },
        "id": "BVceDRrWz3Rb",
        "outputId": "c6714a5b-a5ca-4de3-9f51-291273bba85d"
      },
      "execution_count": 26,
      "outputs": [
        {
          "output_type": "execute_result",
          "data": {
            "text/plain": [
              "array([ 1,  2,  3,  4,  5,  6,  7,  8,  9, 10])"
            ]
          },
          "metadata": {},
          "execution_count": 26
        }
      ]
    },
    {
      "cell_type": "code",
      "source": [
        "np.arange(1,11,3)"
      ],
      "metadata": {
        "colab": {
          "base_uri": "https://localhost:8080/"
        },
        "id": "6pNndGxX0PhZ",
        "outputId": "4b3c4ad2-d81e-4112-cb7d-0f2971993023"
      },
      "execution_count": 27,
      "outputs": [
        {
          "output_type": "execute_result",
          "data": {
            "text/plain": [
              "array([ 1,  4,  7, 10])"
            ]
          },
          "metadata": {},
          "execution_count": 27
        }
      ]
    },
    {
      "cell_type": "code",
      "source": [
        "# with reshape\n",
        "np.arange(1,11).reshape(5,2)"
      ],
      "metadata": {
        "colab": {
          "base_uri": "https://localhost:8080/"
        },
        "id": "mFYGU1aa0UAL",
        "outputId": "d862e208-1271-4615-e19d-c77620e1e8e2"
      },
      "execution_count": 28,
      "outputs": [
        {
          "output_type": "execute_result",
          "data": {
            "text/plain": [
              "array([[ 1,  2],\n",
              "       [ 3,  4],\n",
              "       [ 5,  6],\n",
              "       [ 7,  8],\n",
              "       [ 9, 10]])"
            ]
          },
          "metadata": {},
          "execution_count": 28
        }
      ]
    },
    {
      "cell_type": "code",
      "source": [
        "# np.ones and np.zeros and np.random\n",
        "np.ones((3,4))"
      ],
      "metadata": {
        "colab": {
          "base_uri": "https://localhost:8080/"
        },
        "id": "8cJX_pmF0fXh",
        "outputId": "203d4a47-1029-4258-d665-3bdefd3cb558"
      },
      "execution_count": 29,
      "outputs": [
        {
          "output_type": "execute_result",
          "data": {
            "text/plain": [
              "array([[1., 1., 1., 1.],\n",
              "       [1., 1., 1., 1.],\n",
              "       [1., 1., 1., 1.]])"
            ]
          },
          "metadata": {},
          "execution_count": 29
        }
      ]
    },
    {
      "cell_type": "code",
      "source": [
        "np.zeros((2,3))"
      ],
      "metadata": {
        "colab": {
          "base_uri": "https://localhost:8080/"
        },
        "id": "RWqXNDxO1Pek",
        "outputId": "60f19d98-3c82-4259-c8e3-40ba4884b6f1"
      },
      "execution_count": 30,
      "outputs": [
        {
          "output_type": "execute_result",
          "data": {
            "text/plain": [
              "array([[0., 0., 0.],\n",
              "       [0., 0., 0.]])"
            ]
          },
          "metadata": {},
          "execution_count": 30
        }
      ]
    },
    {
      "cell_type": "code",
      "source": [
        "np.random.random((3,4))"
      ],
      "metadata": {
        "colab": {
          "base_uri": "https://localhost:8080/"
        },
        "id": "1yDmz3lT1pfh",
        "outputId": "7aab6aff-92f9-44df-de26-7805ed885374"
      },
      "execution_count": 31,
      "outputs": [
        {
          "output_type": "execute_result",
          "data": {
            "text/plain": [
              "array([[0.44392208, 0.07236849, 0.68621236, 0.94878611],\n",
              "       [0.6486715 , 0.09752674, 0.67209406, 0.03247999],\n",
              "       [0.52867982, 0.16140954, 0.06460949, 0.24140428]])"
            ]
          },
          "metadata": {},
          "execution_count": 31
        }
      ]
    },
    {
      "cell_type": "code",
      "source": [
        "# np.linspace\n",
        "np.linspace(-100,100,10)"
      ],
      "metadata": {
        "colab": {
          "base_uri": "https://localhost:8080/"
        },
        "id": "P0DgTWrC1wO3",
        "outputId": "2680653f-9905-40f5-ca98-a2df553d1e43"
      },
      "execution_count": 32,
      "outputs": [
        {
          "output_type": "execute_result",
          "data": {
            "text/plain": [
              "array([-100.        ,  -77.77777778,  -55.55555556,  -33.33333333,\n",
              "        -11.11111111,   11.11111111,   33.33333333,   55.55555556,\n",
              "         77.77777778,  100.        ])"
            ]
          },
          "metadata": {},
          "execution_count": 32
        }
      ]
    },
    {
      "cell_type": "code",
      "source": [
        "#np.identity\n",
        "np.identity(2)"
      ],
      "metadata": {
        "colab": {
          "base_uri": "https://localhost:8080/"
        },
        "id": "lQhhTio_2ATB",
        "outputId": "33ed5b8b-404f-433e-c13a-9dd0a23bb6b1"
      },
      "execution_count": 33,
      "outputs": [
        {
          "output_type": "execute_result",
          "data": {
            "text/plain": [
              "array([[1., 0.],\n",
              "       [0., 1.]])"
            ]
          },
          "metadata": {},
          "execution_count": 33
        }
      ]
    },
    {
      "cell_type": "code",
      "source": [
        "# Array attributes\n",
        "a1=np.arange(10,dtype=np.int32)\n",
        "a2=np.arange(12,dtype=float).reshape(3,4)\n",
        "a3=np.arange(8).reshape(2,2,2)\n",
        "\n",
        "#ndim\n",
        "print(a1.ndim)\n",
        "print(a2.ndim)\n",
        "print(a3.ndim)\n",
        "\n",
        "#shape\n",
        "print(a1.shape)\n",
        "print(a2.shape)\n",
        "print(a3.shape)\n",
        "\n",
        "#size\n",
        "print(a3.size)\n",
        "print(a2.size)\n",
        "print(a1.size)"
      ],
      "metadata": {
        "colab": {
          "base_uri": "https://localhost:8080/"
        },
        "id": "WB9DRIVZ2Sok",
        "outputId": "962d05af-e835-4401-c2ca-36fcf842d88d"
      },
      "execution_count": 34,
      "outputs": [
        {
          "output_type": "stream",
          "name": "stdout",
          "text": [
            "1\n",
            "2\n",
            "3\n",
            "(10,)\n",
            "(3, 4)\n",
            "(2, 2, 2)\n",
            "8\n",
            "12\n",
            "10\n"
          ]
        }
      ]
    },
    {
      "cell_type": "code",
      "source": [
        "# itemsize\n",
        "print(a1.itemsize)\n",
        "print(a2.itemsize)\n",
        "print(a3.itemsize)"
      ],
      "metadata": {
        "colab": {
          "base_uri": "https://localhost:8080/"
        },
        "id": "xo6xuWqb3mfZ",
        "outputId": "20e58005-baf7-4152-c821-d8fda3c6254d"
      },
      "execution_count": 35,
      "outputs": [
        {
          "output_type": "stream",
          "name": "stdout",
          "text": [
            "4\n",
            "8\n",
            "8\n"
          ]
        }
      ]
    },
    {
      "cell_type": "code",
      "source": [
        "#dtype\n",
        "print(a1.dtype)\n",
        "print(a2.dtype)\n",
        "print(a3.dtype)"
      ],
      "metadata": {
        "colab": {
          "base_uri": "https://localhost:8080/"
        },
        "id": "l3kEnGSj4uwG",
        "outputId": "91e4099b-1f83-485d-f4c7-26c63de6478b"
      },
      "execution_count": 36,
      "outputs": [
        {
          "output_type": "stream",
          "name": "stdout",
          "text": [
            "int32\n",
            "float64\n",
            "int64\n"
          ]
        }
      ]
    },
    {
      "cell_type": "code",
      "source": [
        "# changing datatype\n",
        "a3.astype(np.int32)"
      ],
      "metadata": {
        "id": "sqVs_Smo5N1Q",
        "outputId": "103404df-613c-447c-8b70-21f63798c1e5",
        "colab": {
          "base_uri": "https://localhost:8080/"
        }
      },
      "execution_count": 37,
      "outputs": [
        {
          "output_type": "execute_result",
          "data": {
            "text/plain": [
              "array([[[0, 1],\n",
              "        [2, 3]],\n",
              "\n",
              "       [[4, 5],\n",
              "        [6, 7]]], dtype=int32)"
            ]
          },
          "metadata": {},
          "execution_count": 37
        }
      ]
    },
    {
      "cell_type": "code",
      "source": [
        "# Array operations\n",
        "a1=np.arange(12).reshape(3,4)\n",
        "a2=np.arange(12,24).reshape(3,4)"
      ],
      "metadata": {
        "id": "deMozQOb6MwU"
      },
      "execution_count": 39,
      "outputs": []
    },
    {
      "cell_type": "code",
      "source": [
        "#scalar operations\n",
        "a1*2"
      ],
      "metadata": {
        "id": "j5js3BR862a3",
        "outputId": "f6b15812-cf2f-4d8f-b95b-bb2e0c48a53a",
        "colab": {
          "base_uri": "https://localhost:8080/"
        }
      },
      "execution_count": 40,
      "outputs": [
        {
          "output_type": "execute_result",
          "data": {
            "text/plain": [
              "array([[ 0,  2,  4,  6],\n",
              "       [ 8, 10, 12, 14],\n",
              "       [16, 18, 20, 22]])"
            ]
          },
          "metadata": {},
          "execution_count": 40
        }
      ]
    },
    {
      "cell_type": "code",
      "source": [
        "#arithmetic\n",
        "a1**2"
      ],
      "metadata": {
        "id": "2odmFqnr7M8f",
        "outputId": "bbd8e0c2-595e-4a51-9374-b7a98b11048b",
        "colab": {
          "base_uri": "https://localhost:8080/"
        }
      },
      "execution_count": 41,
      "outputs": [
        {
          "output_type": "execute_result",
          "data": {
            "text/plain": [
              "array([[  0,   1,   4,   9],\n",
              "       [ 16,  25,  36,  49],\n",
              "       [ 64,  81, 100, 121]])"
            ]
          },
          "metadata": {},
          "execution_count": 41
        }
      ]
    },
    {
      "cell_type": "code",
      "source": [
        "# relational\n",
        "a2>15"
      ],
      "metadata": {
        "id": "aGflTXfW7Z5a",
        "outputId": "838e5522-da30-467f-ed6b-e81fbeaa432f",
        "colab": {
          "base_uri": "https://localhost:8080/"
        }
      },
      "execution_count": 42,
      "outputs": [
        {
          "output_type": "execute_result",
          "data": {
            "text/plain": [
              "array([[False, False, False, False],\n",
              "       [ True,  True,  True,  True],\n",
              "       [ True,  True,  True,  True]])"
            ]
          },
          "metadata": {},
          "execution_count": 42
        }
      ]
    },
    {
      "cell_type": "code",
      "source": [
        "#vector operations\n",
        "#arithmetic\n",
        "a1+a2"
      ],
      "metadata": {
        "id": "BHxfDYiq7kTO",
        "outputId": "71155f0b-b0b0-4d1d-f8c7-842f488aac0d",
        "colab": {
          "base_uri": "https://localhost:8080/"
        }
      },
      "execution_count": 43,
      "outputs": [
        {
          "output_type": "execute_result",
          "data": {
            "text/plain": [
              "array([[12, 14, 16, 18],\n",
              "       [20, 22, 24, 26],\n",
              "       [28, 30, 32, 34]])"
            ]
          },
          "metadata": {},
          "execution_count": 43
        }
      ]
    },
    {
      "cell_type": "code",
      "source": [
        "a1*a2"
      ],
      "metadata": {
        "id": "HuJ-iX6c73k7",
        "outputId": "266c0db9-e7f4-4f81-9ad5-0c05ef09c5ed",
        "colab": {
          "base_uri": "https://localhost:8080/"
        }
      },
      "execution_count": 44,
      "outputs": [
        {
          "output_type": "execute_result",
          "data": {
            "text/plain": [
              "array([[  0,  13,  28,  45],\n",
              "       [ 64,  85, 108, 133],\n",
              "       [160, 189, 220, 253]])"
            ]
          },
          "metadata": {},
          "execution_count": 44
        }
      ]
    },
    {
      "cell_type": "code",
      "source": [
        "#Functions\n",
        "a1=np.random.random((3,3))\n",
        "a1=np.round(a1*100)\n",
        "a1"
      ],
      "metadata": {
        "id": "XCziQSdd8Brq",
        "outputId": "9a66cc0d-02f2-426d-e275-4cf0ead6ad53",
        "colab": {
          "base_uri": "https://localhost:8080/"
        }
      },
      "execution_count": 45,
      "outputs": [
        {
          "output_type": "execute_result",
          "data": {
            "text/plain": [
              "array([[87., 12.,  8.],\n",
              "       [19., 93., 97.],\n",
              "       [69., 26., 20.]])"
            ]
          },
          "metadata": {},
          "execution_count": 45
        }
      ]
    },
    {
      "cell_type": "code",
      "source": [
        "np.max(a1)"
      ],
      "metadata": {
        "id": "5IJ07da38ndq",
        "outputId": "8dcb636c-a818-48ed-93ab-c9b83e64969e",
        "colab": {
          "base_uri": "https://localhost:8080/"
        }
      },
      "execution_count": 46,
      "outputs": [
        {
          "output_type": "execute_result",
          "data": {
            "text/plain": [
              "97.0"
            ]
          },
          "metadata": {},
          "execution_count": 46
        }
      ]
    },
    {
      "cell_type": "code",
      "source": [
        "np.min(a1)"
      ],
      "metadata": {
        "id": "Re_qR9Bi8qpZ",
        "outputId": "9ba2ddb9-2d50-4b70-d9c4-72509cefcb0d",
        "colab": {
          "base_uri": "https://localhost:8080/"
        }
      },
      "execution_count": 47,
      "outputs": [
        {
          "output_type": "execute_result",
          "data": {
            "text/plain": [
              "8.0"
            ]
          },
          "metadata": {},
          "execution_count": 47
        }
      ]
    },
    {
      "cell_type": "code",
      "source": [
        "np.sum(a1)"
      ],
      "metadata": {
        "id": "PiZGxndb89O-",
        "outputId": "bcac499a-e62c-455a-b651-5a73358129e3",
        "colab": {
          "base_uri": "https://localhost:8080/"
        }
      },
      "execution_count": 48,
      "outputs": [
        {
          "output_type": "execute_result",
          "data": {
            "text/plain": [
              "431.0"
            ]
          },
          "metadata": {},
          "execution_count": 48
        }
      ]
    },
    {
      "cell_type": "code",
      "source": [
        "np.prod(a1)"
      ],
      "metadata": {
        "id": "KNlh-tRG8-c-",
        "outputId": "7a8fa00f-172b-4a9f-d6fc-3ecad7f86b17",
        "colab": {
          "base_uri": "https://localhost:8080/"
        }
      },
      "execution_count": 49,
      "outputs": [
        {
          "output_type": "execute_result",
          "data": {
            "text/plain": [
              "51363097194240.0"
            ]
          },
          "metadata": {},
          "execution_count": 49
        }
      ]
    },
    {
      "cell_type": "code",
      "source": [
        "np.prod(a1,axis=0)"
      ],
      "metadata": {
        "id": "QaRmg10H9Bqn",
        "outputId": "d6849aa3-b0ea-4c25-934d-97cf69552c4d",
        "colab": {
          "base_uri": "https://localhost:8080/"
        }
      },
      "execution_count": 50,
      "outputs": [
        {
          "output_type": "execute_result",
          "data": {
            "text/plain": [
              "array([114057.,  29016.,  15520.])"
            ]
          },
          "metadata": {},
          "execution_count": 50
        }
      ]
    },
    {
      "cell_type": "code",
      "source": [
        "#Statistical functions\n",
        "np.mean(a1,axis=1)"
      ],
      "metadata": {
        "id": "yGfiKSOb9gfA",
        "outputId": "cd5b4098-b418-4526-a47a-8aff2566df2d",
        "colab": {
          "base_uri": "https://localhost:8080/"
        }
      },
      "execution_count": 52,
      "outputs": [
        {
          "output_type": "execute_result",
          "data": {
            "text/plain": [
              "array([35.66666667, 69.66666667, 38.33333333])"
            ]
          },
          "metadata": {},
          "execution_count": 52
        }
      ]
    },
    {
      "cell_type": "code",
      "source": [
        "np.median(a1)"
      ],
      "metadata": {
        "id": "2Hy4Ursq9laE",
        "outputId": "e1b88b7c-2328-40dd-f333-5f6ffe912729",
        "colab": {
          "base_uri": "https://localhost:8080/"
        }
      },
      "execution_count": 53,
      "outputs": [
        {
          "output_type": "execute_result",
          "data": {
            "text/plain": [
              "26.0"
            ]
          },
          "metadata": {},
          "execution_count": 53
        }
      ]
    },
    {
      "cell_type": "code",
      "source": [
        "np.std(a1)"
      ],
      "metadata": {
        "id": "asbPAGg_9yKz",
        "outputId": "3720252d-f72d-4888-c4fd-f3cdde0899c1",
        "colab": {
          "base_uri": "https://localhost:8080/"
        }
      },
      "execution_count": 54,
      "outputs": [
        {
          "output_type": "execute_result",
          "data": {
            "text/plain": [
              "35.57915883224162"
            ]
          },
          "metadata": {},
          "execution_count": 54
        }
      ]
    },
    {
      "cell_type": "code",
      "source": [
        "np.var(a1)"
      ],
      "metadata": {
        "id": "Dk_ifasr91tL",
        "outputId": "8341ebb0-cd5e-46f3-ce69-ada9a282c583",
        "colab": {
          "base_uri": "https://localhost:8080/"
        }
      },
      "execution_count": 55,
      "outputs": [
        {
          "output_type": "execute_result",
          "data": {
            "text/plain": [
              "1265.8765432098767"
            ]
          },
          "metadata": {},
          "execution_count": 55
        }
      ]
    },
    {
      "cell_type": "code",
      "source": [
        "#trigonometric functions\n",
        "np.sin(a1)"
      ],
      "metadata": {
        "id": "xr2gw_Wg97Oq",
        "outputId": "ef6dcd34-3ff3-4a2a-e25c-efd8fa3474d9",
        "colab": {
          "base_uri": "https://localhost:8080/"
        }
      },
      "execution_count": 56,
      "outputs": [
        {
          "output_type": "execute_result",
          "data": {
            "text/plain": [
              "array([[-0.82181784, -0.53657292,  0.98935825],\n",
              "       [ 0.14987721, -0.94828214,  0.37960774],\n",
              "       [-0.11478481,  0.76255845,  0.91294525]])"
            ]
          },
          "metadata": {},
          "execution_count": 56
        }
      ]
    },
    {
      "cell_type": "code",
      "source": [
        "#dot product\n",
        "a2=np.arange(12).reshape(3,4)\n",
        "a3=np.arange(12,24).reshape(4,3)\n",
        "np.dot(a2,a3)"
      ],
      "metadata": {
        "id": "LNkx_H_J9_rN",
        "outputId": "2a785310-bff1-438d-d31a-186291ef77e9",
        "colab": {
          "base_uri": "https://localhost:8080/"
        }
      },
      "execution_count": 57,
      "outputs": [
        {
          "output_type": "execute_result",
          "data": {
            "text/plain": [
              "array([[114, 120, 126],\n",
              "       [378, 400, 422],\n",
              "       [642, 680, 718]])"
            ]
          },
          "metadata": {},
          "execution_count": 57
        }
      ]
    },
    {
      "cell_type": "code",
      "source": [
        "#log and exponents\n",
        "np.log(a1)"
      ],
      "metadata": {
        "id": "BLlSNrKp-VBT",
        "outputId": "c4d36073-3a85-446f-ea56-a694d656c04d",
        "colab": {
          "base_uri": "https://localhost:8080/"
        }
      },
      "execution_count": 58,
      "outputs": [
        {
          "output_type": "execute_result",
          "data": {
            "text/plain": [
              "array([[4.46590812, 2.48490665, 2.07944154],\n",
              "       [2.94443898, 4.53259949, 4.57471098],\n",
              "       [4.2341065 , 3.25809654, 2.99573227]])"
            ]
          },
          "metadata": {},
          "execution_count": 58
        }
      ]
    },
    {
      "cell_type": "code",
      "source": [
        "np.exp(a1)"
      ],
      "metadata": {
        "id": "dftDUeUi-gB0",
        "outputId": "28b72982-d86a-4292-996e-385b78f2e931",
        "colab": {
          "base_uri": "https://localhost:8080/"
        }
      },
      "execution_count": 59,
      "outputs": [
        {
          "output_type": "execute_result",
          "data": {
            "text/plain": [
              "array([[6.07603023e+37, 1.62754791e+05, 2.98095799e+03],\n",
              "       [1.78482301e+08, 2.45124554e+40, 1.33833472e+42],\n",
              "       [9.25378173e+29, 1.95729609e+11, 4.85165195e+08]])"
            ]
          },
          "metadata": {},
          "execution_count": 59
        }
      ]
    },
    {
      "cell_type": "code",
      "source": [
        "c=np.round(np.random.random((2,3))*100)\n",
        "print(c)"
      ],
      "metadata": {
        "id": "mdecE-O8-jPd",
        "outputId": "bbe7d99f-0d90-43db-e142-79ddc15d015c",
        "colab": {
          "base_uri": "https://localhost:8080/"
        }
      },
      "execution_count": 62,
      "outputs": [
        {
          "output_type": "stream",
          "name": "stdout",
          "text": [
            "[[11. 33. 96.]\n",
            " [50.  7. 11.]]\n"
          ]
        }
      ]
    },
    {
      "cell_type": "code",
      "source": [
        "# Indexing and Slicing\n",
        "a1=np.arange(10,dtype=np.int32)\n",
        "a2=np.arange(12,dtype=float).reshape(3,4)\n",
        "a3=np.arange(8).reshape(2,2,2)\n",
        "\n",
        "print(a1[-1])"
      ],
      "metadata": {
        "id": "QNrVPYEm-vh1",
        "outputId": "1224fa2a-800e-4394-8ad3-c8ab59732a42",
        "colab": {
          "base_uri": "https://localhost:8080/"
        }
      },
      "execution_count": 64,
      "outputs": [
        {
          "output_type": "stream",
          "name": "stdout",
          "text": [
            "9\n"
          ]
        }
      ]
    },
    {
      "cell_type": "code",
      "source": [],
      "metadata": {
        "id": "rXnbiXhP_Z1J"
      },
      "execution_count": null,
      "outputs": []
    }
  ]
}