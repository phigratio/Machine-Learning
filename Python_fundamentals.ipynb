{
  "nbformat": 4,
  "nbformat_minor": 0,
  "metadata": {
    "colab": {
      "provenance": [],
      "authorship_tag": "ABX9TyNL369gGedepTpJ2jHDESWg",
      "include_colab_link": true
    },
    "kernelspec": {
      "name": "python3",
      "display_name": "Python 3"
    },
    "language_info": {
      "name": "python"
    }
  },
  "cells": [
    {
      "cell_type": "markdown",
      "metadata": {
        "id": "view-in-github",
        "colab_type": "text"
      },
      "source": [
        "<a href=\"https://colab.research.google.com/github/phigratio/Machine-Learning/blob/main/Python_fundamentals.ipynb\" target=\"_parent\"><img src=\"https://colab.research.google.com/assets/colab-badge.svg\" alt=\"Open In Colab\"/></a>"
      ]
    },
    {
      "cell_type": "code",
      "execution_count": 1,
      "metadata": {
        "id": "GDq3CxvGFtDc",
        "colab": {
          "base_uri": "https://localhost:8080/"
        },
        "outputId": "27120584-0f0c-4c72-e90b-63fe417b2dd8"
      },
      "outputs": [
        {
          "output_type": "stream",
          "name": "stdout",
          "text": [
            "Hello world\n"
          ]
        }
      ],
      "source": [
        "#Python is case sensitive\n",
        "print(\"Hello world\")"
      ]
    },
    {
      "cell_type": "code",
      "source": [
        "print(\"Hello world\",1.5,True,sep='/')"
      ],
      "metadata": {
        "colab": {
          "base_uri": "https://localhost:8080/"
        },
        "id": "c7OeM0wZd5-z",
        "outputId": "6fe477f1-825e-4451-87ed-36505e7b025d"
      },
      "execution_count": 2,
      "outputs": [
        {
          "output_type": "stream",
          "name": "stdout",
          "text": [
            "Hello world/1.5/True\n"
          ]
        }
      ]
    },
    {
      "cell_type": "code",
      "source": [
        "#Complex\n",
        "print(type((5+6j)))\n"
      ],
      "metadata": {
        "colab": {
          "base_uri": "https://localhost:8080/"
        },
        "id": "P38HWsnxeAVL",
        "outputId": "168b6f59-7ae8-4195-d398-307fad928aaa"
      },
      "execution_count": 2,
      "outputs": [
        {
          "output_type": "stream",
          "name": "stdout",
          "text": [
            "<class 'complex'>\n"
          ]
        }
      ]
    },
    {
      "cell_type": "code",
      "source": [
        "#List and Tuple\n",
        "print(type([1,2,3]))\n",
        "print(type((1,2,3)))"
      ],
      "metadata": {
        "colab": {
          "base_uri": "https://localhost:8080/"
        },
        "id": "bSMa6Dcow8O3",
        "outputId": "2fbbbcd4-5d9b-450a-e690-c30c56fd3a61"
      },
      "execution_count": 3,
      "outputs": [
        {
          "output_type": "stream",
          "name": "stdout",
          "text": [
            "<class 'list'>\n",
            "<class 'tuple'>\n"
          ]
        }
      ]
    },
    {
      "cell_type": "code",
      "source": [
        "#Sets\n",
        "print(type({1,2,3}))"
      ],
      "metadata": {
        "colab": {
          "base_uri": "https://localhost:8080/"
        },
        "id": "iiRm1-0dxPOe",
        "outputId": "c76706d9-8893-47d4-d0fd-72cfb3695e57"
      },
      "execution_count": 4,
      "outputs": [
        {
          "output_type": "stream",
          "name": "stdout",
          "text": [
            "<class 'set'>\n"
          ]
        }
      ]
    },
    {
      "cell_type": "code",
      "source": [
        "#Dictionary -> Key Value Pair (Map in cpp)\n",
        "print(type({1:\"One\",2:\"Two\",3:\"Three\"}))"
      ],
      "metadata": {
        "colab": {
          "base_uri": "https://localhost:8080/"
        },
        "id": "3Ra1EVnexVFC",
        "outputId": "ff0bac8c-6f26-49ac-d68d-492d438eb7d3"
      },
      "execution_count": 6,
      "outputs": [
        {
          "output_type": "stream",
          "name": "stdout",
          "text": [
            "<class 'dict'>\n"
          ]
        }
      ]
    },
    {
      "cell_type": "code",
      "source": [
        "#Dynamic typing is auto declaration of variable type\n",
        "a=5\n",
        "print(a)"
      ],
      "metadata": {
        "colab": {
          "base_uri": "https://localhost:8080/"
        },
        "id": "Gtx8YN54xa_O",
        "outputId": "7239acb1-019b-41af-8813-22df1d29a018"
      },
      "execution_count": 8,
      "outputs": [
        {
          "output_type": "stream",
          "name": "stdout",
          "text": [
            "5\n"
          ]
        }
      ]
    },
    {
      "cell_type": "code",
      "source": [
        "#Dynamic Binding is redeclartion of same variable with different types\n",
        "a=6\n",
        "print(a)\n",
        "a=\"muqtu\"\n",
        "print(a)"
      ],
      "metadata": {
        "colab": {
          "base_uri": "https://localhost:8080/"
        },
        "id": "3BiOsz8p0GYa",
        "outputId": "41f2e4e0-e19b-49d1-fdb5-9512bd7b13a1"
      },
      "execution_count": 9,
      "outputs": [
        {
          "output_type": "stream",
          "name": "stdout",
          "text": [
            "6\n",
            "muqtu\n"
          ]
        }
      ]
    },
    {
      "cell_type": "code",
      "source": [
        "# new way of declaring variable\n",
        "a,b,c=1,3,2\n",
        "print(a,b,c)\n",
        "a=b=c=5\n",
        "print(a,b,c)"
      ],
      "metadata": {
        "colab": {
          "base_uri": "https://localhost:8080/"
        },
        "id": "Qmfra1_q0TX9",
        "outputId": "9d56282b-a402-4d75-f6a9-66c22ef6d5c3"
      },
      "execution_count": 12,
      "outputs": [
        {
          "output_type": "stream",
          "name": "stdout",
          "text": [
            "1 3 2\n",
            "5 5 5\n"
          ]
        }
      ]
    },
    {
      "cell_type": "code",
      "source": [
        "#input and type conversion\n",
        "fnum=input(\"Enter first no: \")\n",
        "snum=input(\"Enter second no: \")\n",
        "res=int(fnum)+int(snum)\n",
        "print(res)\n"
      ],
      "metadata": {
        "colab": {
          "base_uri": "https://localhost:8080/"
        },
        "id": "OCK1DA6P0yM-",
        "outputId": "eafa1915-6d87-4436-ef73-65b7cded7a44"
      },
      "execution_count": 13,
      "outputs": [
        {
          "output_type": "stream",
          "name": "stdout",
          "text": [
            "Enter first no: 5\n",
            "Enter second no: 29\n",
            "34\n"
          ]
        }
      ]
    },
    {
      "cell_type": "code",
      "source": [
        "# literals\n",
        "a=0b101\n",
        "print(a)\n",
        "b=0o423\n",
        "print(b)\n",
        "c=0xA34\n",
        "print(c)"
      ],
      "metadata": {
        "colab": {
          "base_uri": "https://localhost:8080/"
        },
        "id": "Pwhc_Vsn6rfg",
        "outputId": "3cc397b7-4678-46b5-e928-f94b7bc93103"
      },
      "execution_count": 17,
      "outputs": [
        {
          "output_type": "stream",
          "name": "stdout",
          "text": [
            "5\n",
            "275\n",
            "2612\n"
          ]
        }
      ]
    },
    {
      "cell_type": "code",
      "source": [
        "# Membership operator\n",
        "print(\"d\" in \"muqtu\")\n",
        "print(\"d\" not in \"muqtu\")"
      ],
      "metadata": {
        "colab": {
          "base_uri": "https://localhost:8080/"
        },
        "id": "RMESf2z8MPvW",
        "outputId": "b04edbd8-674c-4ddb-980e-98923db5f4b4"
      },
      "execution_count": 19,
      "outputs": [
        {
          "output_type": "stream",
          "name": "stdout",
          "text": [
            "False\n",
            "True\n"
          ]
        }
      ]
    },
    {
      "cell_type": "code",
      "source": [
        "# Modules\n",
        "import math\n",
        "import keyword\n",
        "import random\n",
        "import datetime as date\n",
        "\n",
        "print(math.factorial(3))\n",
        "print(keyword.kwlist)\n",
        "print(random.randint(1,59))\n",
        "print(date.datetime.now())"
      ],
      "metadata": {
        "id": "PLp_uAV0O7IJ",
        "outputId": "929c773b-56e9-4113-b8a0-12f5f0021803",
        "colab": {
          "base_uri": "https://localhost:8080/"
        }
      },
      "execution_count": 25,
      "outputs": [
        {
          "output_type": "stream",
          "name": "stdout",
          "text": [
            "6\n",
            "['False', 'None', 'True', 'and', 'as', 'assert', 'async', 'await', 'break', 'class', 'continue', 'def', 'del', 'elif', 'else', 'except', 'finally', 'for', 'from', 'global', 'if', 'import', 'in', 'is', 'lambda', 'nonlocal', 'not', 'or', 'pass', 'raise', 'return', 'try', 'while', 'with', 'yield']\n",
            "15\n",
            "2025-02-15 11:00:35.109290\n"
          ]
        }
      ]
    },
    {
      "cell_type": "code",
      "source": [
        "# While loop with else\n",
        "x=int(input(\"Enter a number x :\"))\n",
        "while x<5:\n",
        "  print(x)\n",
        "  x+=1\n",
        "else:\n",
        "  print(\"x is not less than 5\")"
      ],
      "metadata": {
        "id": "ovuESOE8QW1I",
        "outputId": "d1bf9618-743e-489c-afde-58e8acf1e1d8",
        "colab": {
          "base_uri": "https://localhost:8080/"
        }
      },
      "execution_count": 27,
      "outputs": [
        {
          "output_type": "stream",
          "name": "stdout",
          "text": [
            "Enter a number x :2\n",
            "2\n",
            "3\n",
            "4\n",
            "x is not less than 5\n"
          ]
        }
      ]
    },
    {
      "cell_type": "code",
      "source": [
        "# Problem Solving\n",
        "x=10000\n",
        "for i in range(0,10):\n",
        "  x+=(x*0.1)\n",
        "print(x)"
      ],
      "metadata": {
        "id": "2yJfjzHHXjlx",
        "outputId": "1785e59f-cea3-4b76-96e8-8b66018faa73",
        "colab": {
          "base_uri": "https://localhost:8080/"
        }
      },
      "execution_count": 30,
      "outputs": [
        {
          "output_type": "stream",
          "name": "stdout",
          "text": [
            "25937.424601000006\n"
          ]
        }
      ]
    },
    {
      "cell_type": "code",
      "source": [
        "# Sequence Sum\n",
        "n=int(input('enter n: '))\n",
        "result=0\n",
        "fact=1\n",
        "for i in range(1,n+1):\n",
        "  fact*=i\n",
        "  result=result+i/fact\n",
        "\n",
        "print(result)"
      ],
      "metadata": {
        "id": "HhDTEyQtYOvC",
        "outputId": "3b93f515-f1af-4ad0-c3be-bfe05b5910fd",
        "colab": {
          "base_uri": "https://localhost:8080/"
        }
      },
      "execution_count": 33,
      "outputs": [
        {
          "output_type": "stream",
          "name": "stdout",
          "text": [
            "enter n: 5\n",
            "2.708333333333333\n"
          ]
        }
      ]
    },
    {
      "cell_type": "code",
      "source": [
        "# Patterns\n",
        "n=int(input(\"Enter N: \"))\n",
        "for i in range(1,n+1):\n",
        "  for j in range(1,i+1):\n",
        "    print(\"*\",end=\" \")\n",
        "  print()\n",
        "\n"
      ],
      "metadata": {
        "id": "EvE6FX-UfXX5",
        "outputId": "f0fd7376-37ff-4feb-cbd4-4c74f4607971",
        "colab": {
          "base_uri": "https://localhost:8080/"
        }
      },
      "execution_count": 38,
      "outputs": [
        {
          "output_type": "stream",
          "name": "stdout",
          "text": [
            "Enter N: 6\n",
            "* \n",
            "* * \n",
            "* * * \n",
            "* * * * \n",
            "* * * * * \n",
            "* * * * * * \n"
          ]
        }
      ]
    },
    {
      "cell_type": "code",
      "source": [],
      "metadata": {
        "id": "Xs09ZxBEglXx"
      },
      "execution_count": null,
      "outputs": []
    }
  ]
}