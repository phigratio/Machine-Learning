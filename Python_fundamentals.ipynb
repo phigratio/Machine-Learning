{
  "nbformat": 4,
  "nbformat_minor": 0,
  "metadata": {
    "colab": {
      "provenance": [],
      "authorship_tag": "ABX9TyOTNG+OC7uEJiltBP/y8+D8",
      "include_colab_link": true
    },
    "kernelspec": {
      "name": "python3",
      "display_name": "Python 3"
    },
    "language_info": {
      "name": "python"
    }
  },
  "cells": [
    {
      "cell_type": "markdown",
      "metadata": {
        "id": "view-in-github",
        "colab_type": "text"
      },
      "source": [
        "<a href=\"https://colab.research.google.com/github/phigratio/Machine-Learning/blob/main/Python_fundamentals.ipynb\" target=\"_parent\"><img src=\"https://colab.research.google.com/assets/colab-badge.svg\" alt=\"Open In Colab\"/></a>"
      ]
    },
    {
      "cell_type": "code",
      "execution_count": 1,
      "metadata": {
        "id": "GDq3CxvGFtDc",
        "outputId": "27120584-0f0c-4c72-e90b-63fe417b2dd8",
        "colab": {
          "base_uri": "https://localhost:8080/"
        }
      },
      "outputs": [
        {
          "output_type": "stream",
          "name": "stdout",
          "text": [
            "Hello world\n"
          ]
        }
      ],
      "source": [
        "#Python is case sensitive\n",
        "print(\"Hello world\")"
      ]
    },
    {
      "cell_type": "code",
      "source": [
        "print(\"Hello world\",1.5,True,sep='/')"
      ],
      "metadata": {
        "id": "c7OeM0wZd5-z",
        "outputId": "6fe477f1-825e-4451-87ed-36505e7b025d",
        "colab": {
          "base_uri": "https://localhost:8080/"
        }
      },
      "execution_count": 2,
      "outputs": [
        {
          "output_type": "stream",
          "name": "stdout",
          "text": [
            "Hello world/1.5/True\n"
          ]
        }
      ]
    },
    {
      "cell_type": "code",
      "source": [
        "#Complex\n",
        "print(type((5+6j)))\n"
      ],
      "metadata": {
        "id": "P38HWsnxeAVL",
        "outputId": "168b6f59-7ae8-4195-d398-307fad928aaa",
        "colab": {
          "base_uri": "https://localhost:8080/"
        }
      },
      "execution_count": 2,
      "outputs": [
        {
          "output_type": "stream",
          "name": "stdout",
          "text": [
            "<class 'complex'>\n"
          ]
        }
      ]
    },
    {
      "cell_type": "code",
      "source": [
        "#List and Tuple\n",
        "print(type([1,2,3]))\n",
        "print(type((1,2,3)))"
      ],
      "metadata": {
        "id": "bSMa6Dcow8O3",
        "outputId": "2fbbbcd4-5d9b-450a-e690-c30c56fd3a61",
        "colab": {
          "base_uri": "https://localhost:8080/"
        }
      },
      "execution_count": 3,
      "outputs": [
        {
          "output_type": "stream",
          "name": "stdout",
          "text": [
            "<class 'list'>\n",
            "<class 'tuple'>\n"
          ]
        }
      ]
    },
    {
      "cell_type": "code",
      "source": [
        "#Sets\n",
        "print(type({1,2,3}))"
      ],
      "metadata": {
        "id": "iiRm1-0dxPOe",
        "outputId": "c76706d9-8893-47d4-d0fd-72cfb3695e57",
        "colab": {
          "base_uri": "https://localhost:8080/"
        }
      },
      "execution_count": 4,
      "outputs": [
        {
          "output_type": "stream",
          "name": "stdout",
          "text": [
            "<class 'set'>\n"
          ]
        }
      ]
    },
    {
      "cell_type": "code",
      "source": [
        "#Dictionary -> Key Value Pair (Map in cpp)\n",
        "print(type({1:\"One\",2:\"Two\",3:\"Three\"}))"
      ],
      "metadata": {
        "id": "3Ra1EVnexVFC",
        "outputId": "ff0bac8c-6f26-49ac-d68d-492d438eb7d3",
        "colab": {
          "base_uri": "https://localhost:8080/"
        }
      },
      "execution_count": 6,
      "outputs": [
        {
          "output_type": "stream",
          "name": "stdout",
          "text": [
            "<class 'dict'>\n"
          ]
        }
      ]
    },
    {
      "cell_type": "code",
      "source": [
        "#Dynamic typing is auto declaration of variable type\n",
        "a=5\n",
        "print(a)"
      ],
      "metadata": {
        "id": "Gtx8YN54xa_O",
        "outputId": "7239acb1-019b-41af-8813-22df1d29a018",
        "colab": {
          "base_uri": "https://localhost:8080/"
        }
      },
      "execution_count": 8,
      "outputs": [
        {
          "output_type": "stream",
          "name": "stdout",
          "text": [
            "5\n"
          ]
        }
      ]
    },
    {
      "cell_type": "code",
      "source": [
        "#Dynamic Binding is redeclartion of same variable with different types\n",
        "a=6\n",
        "print(a)\n",
        "a=\"muqtu\"\n",
        "print(a)"
      ],
      "metadata": {
        "id": "3BiOsz8p0GYa",
        "outputId": "41f2e4e0-e19b-49d1-fdb5-9512bd7b13a1",
        "colab": {
          "base_uri": "https://localhost:8080/"
        }
      },
      "execution_count": 9,
      "outputs": [
        {
          "output_type": "stream",
          "name": "stdout",
          "text": [
            "6\n",
            "muqtu\n"
          ]
        }
      ]
    },
    {
      "cell_type": "code",
      "source": [
        "# new way of declaring variable\n",
        "a,b,c=1,3,2\n",
        "print(a,b,c)\n",
        "a=b=c=5\n",
        "print(a,b,c)"
      ],
      "metadata": {
        "id": "Qmfra1_q0TX9",
        "outputId": "9d56282b-a402-4d75-f6a9-66c22ef6d5c3",
        "colab": {
          "base_uri": "https://localhost:8080/"
        }
      },
      "execution_count": 12,
      "outputs": [
        {
          "output_type": "stream",
          "name": "stdout",
          "text": [
            "1 3 2\n",
            "5 5 5\n"
          ]
        }
      ]
    },
    {
      "cell_type": "code",
      "source": [
        "#input and type conversion\n",
        "fnum=input(\"Enter first no: \")\n",
        "snum=input(\"Enter second no: \")\n",
        "res=int(fnum)+int(snum)\n",
        "print(res)\n"
      ],
      "metadata": {
        "id": "OCK1DA6P0yM-",
        "outputId": "eafa1915-6d87-4436-ef73-65b7cded7a44",
        "colab": {
          "base_uri": "https://localhost:8080/"
        }
      },
      "execution_count": 13,
      "outputs": [
        {
          "output_type": "stream",
          "name": "stdout",
          "text": [
            "Enter first no: 5\n",
            "Enter second no: 29\n",
            "34\n"
          ]
        }
      ]
    },
    {
      "cell_type": "code",
      "source": [
        "# literals\n",
        "a=0b101\n",
        "print(a)\n",
        "b=0o423\n",
        "print(b)\n",
        "c=0xA34\n",
        "print(c)"
      ],
      "metadata": {
        "id": "Pwhc_Vsn6rfg",
        "outputId": "3cc397b7-4678-46b5-e928-f94b7bc93103",
        "colab": {
          "base_uri": "https://localhost:8080/"
        }
      },
      "execution_count": 17,
      "outputs": [
        {
          "output_type": "stream",
          "name": "stdout",
          "text": [
            "5\n",
            "275\n",
            "2612\n"
          ]
        }
      ]
    },
    {
      "cell_type": "code",
      "source": [],
      "metadata": {
        "id": "RMESf2z8MPvW"
      },
      "execution_count": null,
      "outputs": []
    }
  ]
}