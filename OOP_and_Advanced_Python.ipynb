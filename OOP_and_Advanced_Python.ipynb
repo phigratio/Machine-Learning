{
  "nbformat": 4,
  "nbformat_minor": 0,
  "metadata": {
    "colab": {
      "provenance": [],
      "authorship_tag": "ABX9TyNfiEKwTl6CZiKOq2Ekgno7",
      "include_colab_link": true
    },
    "kernelspec": {
      "name": "python3",
      "display_name": "Python 3"
    },
    "language_info": {
      "name": "python"
    }
  },
  "cells": [
    {
      "cell_type": "markdown",
      "metadata": {
        "id": "view-in-github",
        "colab_type": "text"
      },
      "source": [
        "<a href=\"https://colab.research.google.com/github/phigratio/Machine-Learning/blob/main/OOP_and_Advanced_Python.ipynb\" target=\"_parent\"><img src=\"https://colab.research.google.com/assets/colab-badge.svg\" alt=\"Open In Colab\"/></a>"
      ]
    },
    {
      "cell_type": "code",
      "source": [
        "#Everthing in Python is an object\n",
        "L=[1,2,3]\n",
        "print(type(L))"
      ],
      "metadata": {
        "colab": {
          "base_uri": "https://localhost:8080/"
        },
        "id": "jvrMRUhkZd37",
        "outputId": "302fd607-1edf-4d3c-daa5-c26c8141df7f"
      },
      "execution_count": 2,
      "outputs": [
        {
          "output_type": "stream",
          "name": "stdout",
          "text": [
            "<class 'list'>\n"
          ]
        }
      ]
    },
    {
      "cell_type": "code",
      "source": [
        "#Class->property and behavior\n",
        "#Pascal Case naming\n",
        "# class Atm:\n",
        "\n",
        "#   #constructor->special function\n",
        "#   def __init__(self):\n",
        "#     self.pin=''\n",
        "#     self.balance=0\n",
        "#     print(\"I just got executed\")\n",
        "#     self.menu()\n",
        "\n",
        "#   def menu(self):\n",
        "#     user_input=input(\"\"\"\n",
        "#     Hi how can I help you?\n",
        "#     1. Press 1 to create pin\n",
        "#     2. Press 2 to change pin\n",
        "#     3. Press 3 to check balance\n",
        "#     4. Press 4 to withdraw\n",
        "#     5. Anything else to exit\n",
        "#     \"\"\")\n",
        "\n",
        "#     if(user_input=='1'):\n",
        "#       self.create_pin()\n",
        "#     elif(user_input=='2'):\n",
        "#       self.change_pin()\n",
        "#     elif(user_input=='3'):\n",
        "#       self.check_balance()\n",
        "#     elif(user_input=='4'):\n",
        "#       self.withdraw()\n",
        "#     else:\n",
        "#       exit()\n",
        "\n",
        "\n",
        "#   def create_pin(self):\n",
        "#     user_pin=input(\"Enter your pin: \")\n",
        "#     self.pin=user_pin\n",
        "#     user_balance=int(input(\"Enter balance: \"))\n",
        "#     self.balance=user_balance\n",
        "#     print(\"Pin created successfully\")\n",
        "#     self.menu()\n",
        "\n",
        "#   def change_pin(self):\n",
        "#     old_pin=input(\"Enter old pin: \")\n",
        "#     if(old_pin==self.pin):\n",
        "#       new_pin=input(\"Enter new pin: \")\n",
        "#       self.pin=new_pin\n",
        "#       print(\"Pin changed successfully\")\n",
        "#       self.menu()\n",
        "\n",
        "#     else:\n",
        "#       print(\"Invalid old pin\")\n",
        "#       self.menu()\n",
        "\n",
        "\n",
        "#   def check_balance(self):\n",
        "#     user_pin=input(\"Enter your pin: \")\n",
        "#     if(user_pin==self.pin):\n",
        "#       print(\"Your balance is: \",self.balance)\n",
        "#       self.menu()\n",
        "#     else:\n",
        "#       print(\"Invalid pin\")\n",
        "#       self.menu()\n",
        "\n",
        "#   def withdraw(self):\n",
        "#     user_pin=input(\"Enter your pin: \")\n",
        "#     if(user_pin==self.pin):\n",
        "#       amount=int(input(\"Enter amount: \"))\n",
        "#       if(amount<=self.balance):\n",
        "#         self.balance=self.balance-amount\n",
        "#         print(\"Amount withdrawn successfully\")\n",
        "#       else:\n",
        "#         print(\"Insufficient balance\")\n",
        "#       self.menu()\n",
        "#     else:\n",
        "#       print(\"Invalid pin\")\n",
        "#       self.menu()"
      ],
      "metadata": {
        "id": "hvZxIa1tf2Ae"
      },
      "execution_count": 3,
      "outputs": []
    },
    {
      "cell_type": "code",
      "source": [
        "# obj=Atm()\n",
        "# print(type(obj))"
      ],
      "metadata": {
        "id": "HkCFVOZ6p-Rc"
      },
      "execution_count": 4,
      "outputs": []
    },
    {
      "cell_type": "code",
      "source": [
        "# class Car:\n",
        "#    pass\n",
        "\n",
        "# audi=Car()\n",
        "# bmw=Car()\n",
        "\n",
        "# print(type(bmw))"
      ],
      "metadata": {
        "id": "tu9LrsbaqDaL"
      },
      "execution_count": 5,
      "outputs": []
    },
    {
      "cell_type": "code",
      "source": [
        "# class Dog:\n",
        "#   #constructor\n",
        "#   def __init__(self,name,age):\n",
        "#     self.name=name\n",
        "#     self.age=age\n",
        "\n",
        "# dog1=Dog(\"tommy\",12)\n",
        "# print(dog1)\n",
        "# print(dog1.name)\n",
        "# print(dog1.age)\n",
        "\n",
        "\n",
        "# dog2=Dog(\"tomee\",13)\n",
        "# print(dog2)\n",
        "# print(dog2.name)\n",
        "# print(dog2.age)\n"
      ],
      "metadata": {
        "id": "KB_uDe5u6l5e"
      },
      "execution_count": 6,
      "outputs": []
    },
    {
      "cell_type": "code",
      "source": [
        "##Define a class with instance methods\n",
        "# class Dog:\n",
        "#   def __init__(self,name,age):\n",
        "#     self.name=name\n",
        "#     self.age=age\n",
        "\n",
        "#   def bark(self):\n",
        "#     print(f\"{self.name} says woof\")\n",
        "\n",
        "# dog1=Dog(\"buddy\",4)\n",
        "# dog1.bark()"
      ],
      "metadata": {
        "colab": {
          "base_uri": "https://localhost:8080/"
        },
        "id": "QTGHN22MA1AS",
        "outputId": "e9ac4925-9961-4ce0-a055-4174f1ed5259"
      },
      "execution_count": 7,
      "outputs": [
        {
          "output_type": "stream",
          "name": "stdout",
          "text": [
            "buddy says woof\n"
          ]
        }
      ]
    },
    {
      "cell_type": "code",
      "source": [
        "# class BankAccount:\n",
        "#   def __init__(self,owner,balance=0):\n",
        "#     self.owner=owner\n",
        "#     self.balance=balance\n",
        "#   def deposit(self,amount):\n",
        "#     self.balance+=amount\n",
        "#     print(f\"Deposited {amount} successfully,Current Balance:{self.balance}\")\n",
        "\n",
        "#   def withdrawal(self,amount):\n",
        "#     self.balance-=amount\n",
        "#     print(f\"Withdrew {amount} successfully,Current Balance:{self.balance}\")\n",
        "\n",
        "# acc1=BankAccount(\"Alice\",1000)\n",
        "# acc1.deposit(500)\n",
        "# acc1.withdrawal(200)\n"
      ],
      "metadata": {
        "colab": {
          "base_uri": "https://localhost:8080/"
        },
        "id": "u0A4FGRzA4ju",
        "outputId": "61ce0e08-1206-470c-b70c-b8c8b891b031"
      },
      "execution_count": 8,
      "outputs": [
        {
          "output_type": "stream",
          "name": "stdout",
          "text": [
            "Deposited 500 successfully,Current Balance:1500\n",
            "Withdrew 200 successfully,Current Balance:1300\n"
          ]
        }
      ]
    },
    {
      "cell_type": "code",
      "source": [
        "#Inheritance in OOPs\n",
        "# class Car:\n",
        "#   def __init__(self,windows,doors,engineType):\n",
        "#     self.windows=windows\n",
        "#     self.doors=doors\n",
        "#     self.engineType=engineType\n",
        "\n",
        "#   def drive(self):\n",
        "#     print(f\"The person will drive the {self.engineType} car \")\n",
        ""
      ],
      "metadata": {
        "id": "3549BoEId4hV"
      },
      "execution_count": 9,
      "outputs": []
    },
    {
      "cell_type": "code",
      "source": [
        "# car1=Car(4,5,\"petrol\")\n",
        "# car1.drive()"
      ],
      "metadata": {
        "colab": {
          "base_uri": "https://localhost:8080/"
        },
        "id": "ZEaQleK8d7n6",
        "outputId": "8b6bb318-05ed-481b-c0ed-2a39c53a6218"
      },
      "execution_count": 10,
      "outputs": [
        {
          "output_type": "stream",
          "name": "stdout",
          "text": [
            "The person will drive the petrol car \n"
          ]
        }
      ]
    },
    {
      "cell_type": "code",
      "source": [
        "# class Tesla(Car):\n",
        "#   def __init__(self,windows,doors,engineType,isSelfDriving):\n",
        "#     super().__init__(windows,doors,engineType)\n",
        "#     self.isSelfDriving=isSelfDriving\n",
        "\n",
        "#   def selfdriving(self):\n",
        "#     print(f\"Tesla supports self driving : {self.isSelfDriving}\")\n",
        "\n",
        "# tesla1=Tesla(4,5,\"electric\",True)\n",
        "# tesla1.selfdriving()\n",
        "# tesla1.drive()"
      ],
      "metadata": {
        "colab": {
          "base_uri": "https://localhost:8080/"
        },
        "id": "Jd0xljj370Iy",
        "outputId": "10d28444-e2db-4feb-a186-d0df79ae5882"
      },
      "execution_count": 13,
      "outputs": [
        {
          "output_type": "stream",
          "name": "stdout",
          "text": [
            "Tesla supports self driving : True\n",
            "The person will drive the electric car \n"
          ]
        }
      ]
    },
    {
      "cell_type": "code",
      "source": [
        "##Multiple Inheritance\n",
        "#When a class inherits from more than one base class\n",
        "\n",
        "# class Animal:\n",
        "#   def __init__(self,name):\n",
        "#     self.name=name\n",
        "\n",
        "#   def speak(self):\n",
        "#     print(\"Subclass must implement method\")\n",
        "\n",
        "# class Pet:\n",
        "#   def __init__(self,owner):\n",
        "#     self.owner=owner\n",
        "\n",
        "\n",
        "# class Dog(Animal,Pet):\n",
        "#   def __init__(self,name,owner):\n",
        "#     Animal.__init__(self,name)\n",
        "#     Pet.__init__(self,owner)\n",
        "\n",
        "#   def speak(self):\n",
        "#     return f\"{self.name} says woof\"\n",
        "\n",
        "\n",
        "# dog1=Dog(\"buddy\",\"muqtadir\")\n",
        "# dog1.speak()"
      ],
      "metadata": {
        "colab": {
          "base_uri": "https://localhost:8080/",
          "height": 36
        },
        "id": "alyGnagBE96-",
        "outputId": "70d5b7ac-0cac-4b9a-ea58-af85f91d09aa"
      },
      "execution_count": 18,
      "outputs": [
        {
          "output_type": "execute_result",
          "data": {
            "text/plain": [
              "'buddy says woof'"
            ],
            "application/vnd.google.colaboratory.intrinsic+json": {
              "type": "string"
            }
          },
          "metadata": {},
          "execution_count": 18
        }
      ]
    },
    {
      "cell_type": "code",
      "source": [
        "## Method Overriding\n",
        "# class Animal:\n",
        "#   def speak(self):\n",
        "#    return \"Sound of the animal\"\n",
        "\n",
        "# class Dog(Animal):\n",
        "#   def speak(self):\n",
        "#     return \"woof\"\n",
        "# class Cat(Animal):\n",
        "#   def speak(self):\n",
        "#     return \"meow\"\n",
        "\n",
        "\n",
        "# dog=Dog()\n",
        "# cat=Cat()\n",
        "# print(dog.speak())\n",
        "# print(cat.speak())"
      ],
      "metadata": {
        "colab": {
          "base_uri": "https://localhost:8080/"
        },
        "id": "9e0CTPjAHBs2",
        "outputId": "9f8ffb43-a702-470e-ac51-829b575ae89b"
      },
      "execution_count": 22,
      "outputs": [
        {
          "output_type": "stream",
          "name": "stdout",
          "text": [
            "woof\n",
            "meow\n"
          ]
        }
      ]
    },
    {
      "cell_type": "code",
      "source": [
        "##Polymorphism using functions and methods\n",
        "# class Shape():\n",
        "#   def area(self):\n",
        "#     return \"This is the area method\"\n",
        "# class Rectangle(Shape):\n",
        "#   def __init__(self,length,width):\n",
        "#     self.length=length\n",
        "#     self.width=width\n",
        "#   def area(self):\n",
        "#     return f\"{self.length*self.width} is the area of the rectangle\"\n",
        "\n",
        "# class Circle(Shape):\n",
        "#   def __init__(self,radius):\n",
        "#     self.radius=radius\n",
        "#   def area(self):\n",
        "#     return f\"{3.14*self.radius*self.radius} is the area of the circle\"\n",
        "\n",
        "# def printArea(shape):\n",
        "#   print(shape.area())\n",
        "\n",
        "# shape1=Shape()\n",
        "# shape2=Rectangle(4,5)\n",
        "# shape3=Circle(5)\n",
        "# printArea(shape1)\n",
        "# printArea(shape2)\n",
        "# printArea(shape3)"
      ],
      "metadata": {
        "id": "sf4mdZBxKTrO",
        "outputId": "ba982f04-3fbb-4ea3-8688-f60a7abed498",
        "colab": {
          "base_uri": "https://localhost:8080/"
        }
      },
      "execution_count": 23,
      "outputs": [
        {
          "output_type": "stream",
          "name": "stdout",
          "text": [
            "This is the area method\n",
            "20 is the area of the rectangle\n",
            "78.5 is the area of the circle\n"
          ]
        }
      ]
    },
    {
      "cell_type": "code",
      "source": [
        "##Polymorphism with abstract base classes\n",
        "# from abc import ABC,abstractmethod\n",
        "# class Vehicle(ABC):\n",
        "#   @abstractmethod\n",
        "#   def start_engine(self):\n",
        "#     pass\n",
        "\n",
        "# class Car(Vehicle):\n",
        "#   def start_engine(self):\n",
        "#     print(\"Car engine started\")\n",
        "\n",
        "# class Bike(Vehicle):\n",
        "#   def start_engine(self):\n",
        "#     print(\"Bike engine started\")\n",
        "\n",
        "# car=Car()\n",
        "# bike=Bike()\n",
        "# car.start_engine()\n",
        "# bike.start_engine()"
      ],
      "metadata": {
        "id": "aTdtJv4FRaQB",
        "outputId": "e673e441-7b0c-43e9-d488-b32d3e4ee3d4",
        "colab": {
          "base_uri": "https://localhost:8080/"
        }
      },
      "execution_count": 25,
      "outputs": [
        {
          "output_type": "stream",
          "name": "stdout",
          "text": [
            "Car engine started\n",
            "Bike engine started\n"
          ]
        }
      ]
    },
    {
      "cell_type": "code",
      "source": [],
      "metadata": {
        "id": "8sLf_IOOVaXl"
      },
      "execution_count": null,
      "outputs": []
    },
    {
      "cell_type": "code",
      "source": [],
      "metadata": {
        "id": "HpposNQuVZyb"
      },
      "execution_count": 24,
      "outputs": []
    }
  ]
}