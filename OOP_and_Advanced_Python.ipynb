{
  "nbformat": 4,
  "nbformat_minor": 0,
  "metadata": {
    "colab": {
      "provenance": [],
      "authorship_tag": "ABX9TyMHxLY/FdeBOWdpKnZN4Fna",
      "include_colab_link": true
    },
    "kernelspec": {
      "name": "python3",
      "display_name": "Python 3"
    },
    "language_info": {
      "name": "python"
    }
  },
  "cells": [
    {
      "cell_type": "markdown",
      "metadata": {
        "id": "view-in-github",
        "colab_type": "text"
      },
      "source": [
        "<a href=\"https://colab.research.google.com/github/phigratio/Machine-Learning/blob/main/OOP_and_Advanced_Python.ipynb\" target=\"_parent\"><img src=\"https://colab.research.google.com/assets/colab-badge.svg\" alt=\"Open In Colab\"/></a>"
      ]
    },
    {
      "cell_type": "code",
      "source": [
        "#Everthing in Python is an object\n",
        "L=[1,2,3]\n",
        "print(type(L))"
      ],
      "metadata": {
        "colab": {
          "base_uri": "https://localhost:8080/"
        },
        "id": "jvrMRUhkZd37",
        "outputId": "e70abf11-f9f2-4e0d-aea3-90aea0e84cdc"
      },
      "execution_count": 4,
      "outputs": [
        {
          "output_type": "stream",
          "name": "stdout",
          "text": [
            "<class 'list'>\n"
          ]
        }
      ]
    },
    {
      "cell_type": "code",
      "source": [
        "#Class->property and behavior\n",
        "#Pascal Case naming\n",
        "# class Atm:\n",
        "\n",
        "#   #constructor->special function\n",
        "#   def __init__(self):\n",
        "#     self.pin=''\n",
        "#     self.balance=0\n",
        "#     print(\"I just got executed\")\n",
        "#     self.menu()\n",
        "\n",
        "#   def menu(self):\n",
        "#     user_input=input(\"\"\"\n",
        "#     Hi how can I help you?\n",
        "#     1. Press 1 to create pin\n",
        "#     2. Press 2 to change pin\n",
        "#     3. Press 3 to check balance\n",
        "#     4. Press 4 to withdraw\n",
        "#     5. Anything else to exit\n",
        "#     \"\"\")\n",
        "\n",
        "#     if(user_input=='1'):\n",
        "#       self.create_pin()\n",
        "#     elif(user_input=='2'):\n",
        "#       self.change_pin()\n",
        "#     elif(user_input=='3'):\n",
        "#       self.check_balance()\n",
        "#     elif(user_input=='4'):\n",
        "#       self.withdraw()\n",
        "#     else:\n",
        "#       exit()\n",
        "\n",
        "\n",
        "#   def create_pin(self):\n",
        "#     user_pin=input(\"Enter your pin: \")\n",
        "#     self.pin=user_pin\n",
        "#     user_balance=int(input(\"Enter balance: \"))\n",
        "#     self.balance=user_balance\n",
        "#     print(\"Pin created successfully\")\n",
        "#     self.menu()\n",
        "\n",
        "#   def change_pin(self):\n",
        "#     old_pin=input(\"Enter old pin: \")\n",
        "#     if(old_pin==self.pin):\n",
        "#       new_pin=input(\"Enter new pin: \")\n",
        "#       self.pin=new_pin\n",
        "#       print(\"Pin changed successfully\")\n",
        "#       self.menu()\n",
        "\n",
        "#     else:\n",
        "#       print(\"Invalid old pin\")\n",
        "#       self.menu()\n",
        "\n",
        "\n",
        "#   def check_balance(self):\n",
        "#     user_pin=input(\"Enter your pin: \")\n",
        "#     if(user_pin==self.pin):\n",
        "#       print(\"Your balance is: \",self.balance)\n",
        "#       self.menu()\n",
        "#     else:\n",
        "#       print(\"Invalid pin\")\n",
        "#       self.menu()\n",
        "\n",
        "#   def withdraw(self):\n",
        "#     user_pin=input(\"Enter your pin: \")\n",
        "#     if(user_pin==self.pin):\n",
        "#       amount=int(input(\"Enter amount: \"))\n",
        "#       if(amount<=self.balance):\n",
        "#         self.balance=self.balance-amount\n",
        "#         print(\"Amount withdrawn successfully\")\n",
        "#       else:\n",
        "#         print(\"Insufficient balance\")\n",
        "#       self.menu()\n",
        "#     else:\n",
        "#       print(\"Invalid pin\")\n",
        "#       self.menu()"
      ],
      "metadata": {
        "id": "hvZxIa1tf2Ae"
      },
      "execution_count": 5,
      "outputs": []
    },
    {
      "cell_type": "code",
      "source": [
        "# obj=Atm()\n",
        "# print(type(obj))"
      ],
      "metadata": {
        "id": "HkCFVOZ6p-Rc"
      },
      "execution_count": 6,
      "outputs": []
    },
    {
      "cell_type": "code",
      "source": [
        "# class Car:\n",
        "#    pass\n",
        "\n",
        "# audi=Car()\n",
        "# bmw=Car()\n",
        "\n",
        "# print(type(bmw))"
      ],
      "metadata": {
        "id": "tu9LrsbaqDaL"
      },
      "execution_count": 7,
      "outputs": []
    },
    {
      "cell_type": "code",
      "source": [
        "# class Dog:\n",
        "#   #constructor\n",
        "#   def __init__(self,name,age):\n",
        "#     self.name=name\n",
        "#     self.age=age\n",
        "\n",
        "# dog1=Dog(\"tommy\",12)\n",
        "# print(dog1)\n",
        "# print(dog1.name)\n",
        "# print(dog1.age)\n",
        "\n",
        "\n",
        "# dog2=Dog(\"tomee\",13)\n",
        "# print(dog2)\n",
        "# print(dog2.name)\n",
        "# print(dog2.age)\n"
      ],
      "metadata": {
        "id": "KB_uDe5u6l5e"
      },
      "execution_count": 8,
      "outputs": []
    },
    {
      "cell_type": "code",
      "source": [
        "##Define a class with instance methods\n",
        "# class Dog:\n",
        "#   def __init__(self,name,age):\n",
        "#     self.name=name\n",
        "#     self.age=age\n",
        "\n",
        "#   def bark(self):\n",
        "#     print(f\"{self.name} says woof\")\n",
        "\n",
        "# dog1=Dog(\"buddy\",4)\n",
        "# dog1.bark()"
      ],
      "metadata": {
        "id": "QTGHN22MA1AS"
      },
      "execution_count": 9,
      "outputs": []
    },
    {
      "cell_type": "code",
      "source": [
        "# class BankAccount:\n",
        "#   def __init__(self,owner,balance=0):\n",
        "#     self.owner=owner\n",
        "#     self.balance=balance\n",
        "#   def deposit(self,amount):\n",
        "#     self.balance+=amount\n",
        "#     print(f\"Deposited {amount} successfully,Current Balance:{self.balance}\")\n",
        "\n",
        "#   def withdrawal(self,amount):\n",
        "#     self.balance-=amount\n",
        "#     print(f\"Withdrew {amount} successfully,Current Balance:{self.balance}\")\n",
        "\n",
        "# acc1=BankAccount(\"Alice\",1000)\n",
        "# acc1.deposit(500)\n",
        "# acc1.withdrawal(200)\n"
      ],
      "metadata": {
        "id": "u0A4FGRzA4ju"
      },
      "execution_count": 10,
      "outputs": []
    },
    {
      "cell_type": "code",
      "source": [
        "#Inheritance in OOPs\n",
        "# class Car:\n",
        "#   def __init__(self,windows,doors,engineType):\n",
        "#     self.windows=windows\n",
        "#     self.doors=doors\n",
        "#     self.engineType=engineType\n",
        "\n",
        "#   def drive(self):\n",
        "#     print(f\"The person will drive the {self.engineType} car \")\n",
        ""
      ],
      "metadata": {
        "id": "3549BoEId4hV"
      },
      "execution_count": 11,
      "outputs": []
    },
    {
      "cell_type": "code",
      "source": [
        "# car1=Car(4,5,\"petrol\")\n",
        "# car1.drive()"
      ],
      "metadata": {
        "id": "ZEaQleK8d7n6"
      },
      "execution_count": 12,
      "outputs": []
    },
    {
      "cell_type": "code",
      "source": [
        "# class Tesla(Car):\n",
        "#   def __init__(self,windows,doors,engineType,isSelfDriving):\n",
        "#     super().__init__(windows,doors,engineType)\n",
        "#     self.isSelfDriving=isSelfDriving\n",
        "\n",
        "#   def selfdriving(self):\n",
        "#     print(f\"Tesla supports self driving : {self.isSelfDriving}\")\n",
        "\n",
        "# tesla1=Tesla(4,5,\"electric\",True)\n",
        "# tesla1.selfdriving()\n",
        "# tesla1.drive()"
      ],
      "metadata": {
        "id": "Jd0xljj370Iy"
      },
      "execution_count": 13,
      "outputs": []
    },
    {
      "cell_type": "code",
      "source": [
        "##Multiple Inheritance\n",
        "#When a class inherits from more than one base class\n",
        "\n",
        "# class Animal:\n",
        "#   def __init__(self,name):\n",
        "#     self.name=name\n",
        "\n",
        "#   def speak(self):\n",
        "#     print(\"Subclass must implement method\")\n",
        "\n",
        "# class Pet:\n",
        "#   def __init__(self,owner):\n",
        "#     self.owner=owner\n",
        "\n",
        "\n",
        "# class Dog(Animal,Pet):\n",
        "#   def __init__(self,name,owner):\n",
        "#     Animal.__init__(self,name)\n",
        "#     Pet.__init__(self,owner)\n",
        "\n",
        "#   def speak(self):\n",
        "#     return f\"{self.name} says woof\"\n",
        "\n",
        "\n",
        "# dog1=Dog(\"buddy\",\"muqtadir\")\n",
        "# dog1.speak()"
      ],
      "metadata": {
        "id": "alyGnagBE96-"
      },
      "execution_count": 14,
      "outputs": []
    },
    {
      "cell_type": "code",
      "source": [
        "## Method Overriding\n",
        "# class Animal:\n",
        "#   def speak(self):\n",
        "#    return \"Sound of the animal\"\n",
        "\n",
        "# class Dog(Animal):\n",
        "#   def speak(self):\n",
        "#     return \"woof\"\n",
        "# class Cat(Animal):\n",
        "#   def speak(self):\n",
        "#     return \"meow\"\n",
        "\n",
        "\n",
        "# dog=Dog()\n",
        "# cat=Cat()\n",
        "# print(dog.speak())\n",
        "# print(cat.speak())"
      ],
      "metadata": {
        "id": "9e0CTPjAHBs2"
      },
      "execution_count": 15,
      "outputs": []
    },
    {
      "cell_type": "code",
      "source": [
        "##Polymorphism using functions and methods\n",
        "# class Shape():\n",
        "#   def area(self):\n",
        "#     return \"This is the area method\"\n",
        "# class Rectangle(Shape):\n",
        "#   def __init__(self,length,width):\n",
        "#     self.length=length\n",
        "#     self.width=width\n",
        "#   def area(self):\n",
        "#     return f\"{self.length*self.width} is the area of the rectangle\"\n",
        "\n",
        "# class Circle(Shape):\n",
        "#   def __init__(self,radius):\n",
        "#     self.radius=radius\n",
        "#   def area(self):\n",
        "#     return f\"{3.14*self.radius*self.radius} is the area of the circle\"\n",
        "\n",
        "# def printArea(shape):\n",
        "#   print(shape.area())\n",
        "\n",
        "# shape1=Shape()\n",
        "# shape2=Rectangle(4,5)\n",
        "# shape3=Circle(5)\n",
        "# printArea(shape1)\n",
        "# printArea(shape2)\n",
        "# printArea(shape3)"
      ],
      "metadata": {
        "id": "sf4mdZBxKTrO"
      },
      "execution_count": 16,
      "outputs": []
    },
    {
      "cell_type": "code",
      "source": [
        "##Polymorphism with abstract base classes\n",
        "# from abc import ABC,abstractmethod\n",
        "# class Vehicle(ABC):\n",
        "#   @abstractmethod\n",
        "#   def start_engine(self):\n",
        "#     pass\n",
        "\n",
        "# class Car(Vehicle):\n",
        "#   def start_engine(self):\n",
        "#     print(\"Car engine started\")\n",
        "\n",
        "# class Bike(Vehicle):\n",
        "#   def start_engine(self):\n",
        "#     print(\"Bike engine started\")\n",
        "\n",
        "# car=Car()\n",
        "# bike=Bike()\n",
        "# car.start_engine()\n",
        "# bike.start_engine()"
      ],
      "metadata": {
        "id": "aTdtJv4FRaQB"
      },
      "execution_count": 17,
      "outputs": []
    },
    {
      "cell_type": "code",
      "source": [
        "## Encapsulation with Getter and Setter Method\n",
        "\n",
        "## Public, Protected, Private Variables\n",
        "\n",
        "# class Person:\n",
        "#   def __init__(self,name,age):\n",
        "#     self.name=name  #public\n",
        "#     self.age=age\n",
        "\n",
        "# person=Person(\"Muqtadir\",23)\n",
        "# print(person.name)"
      ],
      "metadata": {
        "colab": {
          "base_uri": "https://localhost:8080/"
        },
        "id": "8sLf_IOOVaXl",
        "outputId": "2300cb0f-7e84-4ba2-f8a1-c433ad53a1b8"
      },
      "execution_count": 18,
      "outputs": [
        {
          "output_type": "stream",
          "name": "stdout",
          "text": [
            "Muqtadir\n"
          ]
        }
      ]
    },
    {
      "cell_type": "code",
      "source": [
        "# class Person:\n",
        "#   def __init__(self,name,age):\n",
        "#     self.__name=name  #private\n",
        "#     self.__age=age\n",
        "\n",
        "#   def getName(self):\n",
        "#     return self.__name\n",
        "#   def setName(self,name):\n",
        "#      self.__name=name\n",
        "\n",
        "#   def getAge(self):\n",
        "#     return self.__age\n",
        "#   def setAge(self,age):\n",
        "#     self.__age=age\n",
        "\n",
        "\n",
        "# person=Person(\"Muqtadir\",23)\n",
        "# person.getName()\n",
        "# person.setName(\"Muqtu\")\n",
        "# person.getName()"
      ],
      "metadata": {
        "colab": {
          "base_uri": "https://localhost:8080/",
          "height": 36
        },
        "id": "HpposNQuVZyb",
        "outputId": "6389103e-2169-4bc7-8a86-f6b6ad4dc895"
      },
      "execution_count": 28,
      "outputs": [
        {
          "output_type": "execute_result",
          "data": {
            "text/plain": [
              "'Muqtu'"
            ],
            "application/vnd.google.colaboratory.intrinsic+json": {
              "type": "string"
            }
          },
          "metadata": {},
          "execution_count": 28
        }
      ]
    },
    {
      "cell_type": "code",
      "source": [
        "# class Person:\n",
        "#   def __init__(self,name,age):\n",
        "#     self._name=name  #protected\n",
        "#     self._age=age\n",
        "\n",
        "#   def getName(person):\n",
        "#     return person.__name\n",
        "\n",
        "# class Employee(Person):\n",
        "#   def __init__(self, name, age):\n",
        "#     super().__init__(name, age)\n",
        "\n",
        "# emp=Employee(\"Muqtadir\",23)\n",
        "# print(emp._name)"
      ],
      "metadata": {
        "colab": {
          "base_uri": "https://localhost:8080/"
        },
        "id": "d0EgsLmPQPgN",
        "outputId": "fe3be358-9408-478c-e572-d80ce22774cb"
      },
      "execution_count": 23,
      "outputs": [
        {
          "output_type": "stream",
          "name": "stdout",
          "text": [
            "Muqtadir\n"
          ]
        }
      ]
    },
    {
      "cell_type": "code",
      "source": [
        "# #Abstraction\n",
        "# from abc import ABC,abstractmethod\n",
        "\n",
        "# class Vehicle(ABC):\n",
        "#   def drive(self):\n",
        "#     print(\"The vehicle is used for driving\")\n",
        "\n",
        "#   @abstractmethod\n",
        "#   def start_engine(self):\n",
        "#     pass\n",
        "\n",
        "# class Car(Vehicle):\n",
        "#   def start_engine(self):\n",
        "#     print(\"Car engine started\")\n",
        "\n",
        "# class Bike(Vehicle):\n",
        "#   def start_engine(self):\n",
        "#     print(\"Bike engine started\")\n",
        "\n",
        "# car=Car()\n",
        "# bike=Bike()\n",
        "# car.drive()\n",
        "# bike.drive()\n",
        "# car.start_engine()\n",
        "# bike.start_engine()\n"
      ],
      "metadata": {
        "colab": {
          "base_uri": "https://localhost:8080/"
        },
        "id": "uJ3wcRC4WYUl",
        "outputId": "8d1a3f5e-1102-4a0a-e3b7-bbe4669288d9"
      },
      "execution_count": 2,
      "outputs": [
        {
          "output_type": "stream",
          "name": "stdout",
          "text": [
            "The vehicle is used for driving\n",
            "The vehicle is used for driving\n",
            "Car engine started\n",
            "Bike engine started\n"
          ]
        }
      ]
    },
    {
      "cell_type": "code",
      "source": [
        "#Magic Methods\n",
        "class Person:\n",
        "  pass\n",
        "\n",
        "person=Person()\n",
        "print(person)\n",
        "dir(person)"
      ],
      "metadata": {
        "id": "X0Xg7V6WbsNx",
        "outputId": "807107ec-60f4-43b3-d8b6-f2d80243cd8c",
        "colab": {
          "base_uri": "https://localhost:8080/"
        }
      },
      "execution_count": 4,
      "outputs": [
        {
          "output_type": "stream",
          "name": "stdout",
          "text": [
            "<__main__.Person object at 0x79ffe876d690>\n"
          ]
        },
        {
          "output_type": "execute_result",
          "data": {
            "text/plain": [
              "['__class__',\n",
              " '__delattr__',\n",
              " '__dict__',\n",
              " '__dir__',\n",
              " '__doc__',\n",
              " '__eq__',\n",
              " '__format__',\n",
              " '__ge__',\n",
              " '__getattribute__',\n",
              " '__getstate__',\n",
              " '__gt__',\n",
              " '__hash__',\n",
              " '__init__',\n",
              " '__init_subclass__',\n",
              " '__le__',\n",
              " '__lt__',\n",
              " '__module__',\n",
              " '__ne__',\n",
              " '__new__',\n",
              " '__reduce__',\n",
              " '__reduce_ex__',\n",
              " '__repr__',\n",
              " '__setattr__',\n",
              " '__sizeof__',\n",
              " '__str__',\n",
              " '__subclasshook__',\n",
              " '__weakref__']"
            ]
          },
          "metadata": {},
          "execution_count": 4
        }
      ]
    },
    {
      "cell_type": "code",
      "source": [],
      "metadata": {
        "id": "ZKVVCWq4cfXv"
      },
      "execution_count": null,
      "outputs": []
    }
  ]
}