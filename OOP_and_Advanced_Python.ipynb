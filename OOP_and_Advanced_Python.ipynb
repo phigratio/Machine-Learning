{
  "nbformat": 4,
  "nbformat_minor": 0,
  "metadata": {
    "colab": {
      "provenance": [],
      "authorship_tag": "ABX9TyM9ny7sTmHRBZ9MZxHNtNwH",
      "include_colab_link": true
    },
    "kernelspec": {
      "name": "python3",
      "display_name": "Python 3"
    },
    "language_info": {
      "name": "python"
    }
  },
  "cells": [
    {
      "cell_type": "markdown",
      "metadata": {
        "id": "view-in-github",
        "colab_type": "text"
      },
      "source": [
        "<a href=\"https://colab.research.google.com/github/phigratio/Machine-Learning/blob/main/OOP_and_Advanced_Python.ipynb\" target=\"_parent\"><img src=\"https://colab.research.google.com/assets/colab-badge.svg\" alt=\"Open In Colab\"/></a>"
      ]
    },
    {
      "cell_type": "code",
      "source": [
        "#Everthing in Python is an object\n",
        "L=[1,2,3]\n",
        "print(type(L))"
      ],
      "metadata": {
        "colab": {
          "base_uri": "https://localhost:8080/"
        },
        "id": "jvrMRUhkZd37",
        "outputId": "df76d34b-667b-4aec-ef36-0a4e982b70a9"
      },
      "execution_count": 4,
      "outputs": [
        {
          "output_type": "stream",
          "name": "stdout",
          "text": [
            "<class 'list'>\n"
          ]
        }
      ]
    },
    {
      "cell_type": "code",
      "source": [
        "#Class->property and behavior\n",
        "#Pascal Case naming\n",
        "class Atm:\n",
        "\n",
        "  #constructor->special function\n",
        "  def __init__(self):\n",
        "    self.pin=''\n",
        "    self.balance=0\n",
        "    print(\"I just got executed\")\n",
        "    self.menu()\n",
        "\n",
        "  def menu(self):\n",
        "    user_input=input(\"\"\"\n",
        "    Hi how can I help you?\n",
        "    1. Press 1 to create pin\n",
        "    2. Press 2 to change pin\n",
        "    3. Press 3 to check balance\n",
        "    4. Press 4 to withdraw\n",
        "    5. Anything else to exit\n",
        "    \"\"\")\n",
        "\n",
        "    if(user_input=='1'):\n",
        "      self.create_pin()\n",
        "    elif(user_input=='2'):\n",
        "      self.change_pin()\n",
        "    elif(user_input=='3'):\n",
        "      self.check_balance()\n",
        "    elif(user_input=='4'):\n",
        "      self.withdraw()\n",
        "    else:\n",
        "      exit()\n",
        "\n",
        "\n",
        "  def create_pin(self):\n",
        "    user_pin=input(\"Enter your pin: \")\n",
        "    self.pin=user_pin\n",
        "    user_balance=int(input(\"Enter balance: \"))\n",
        "    self.balance=user_balance\n",
        "    print(\"Pin created successfully\")\n",
        "    self.menu()\n",
        "\n",
        "  def change_pin(self):\n",
        "    old_pin=input(\"Enter old pin: \")\n",
        "    if(old_pin==self.pin):\n",
        "      new_pin=input(\"Enter new pin: \")\n",
        "      self.pin=new_pin\n",
        "      print(\"Pin changed successfully\")\n",
        "      self.menu()\n",
        "\n",
        "    else:\n",
        "      print(\"Invalid old pin\")\n",
        "      self.menu()\n",
        "\n",
        "\n",
        "  def check_balance(self):\n",
        "    user_pin=input(\"Enter your pin: \")\n",
        "    if(user_pin==self.pin):\n",
        "      print(\"Your balance is: \",self.balance)\n",
        "      self.menu()\n",
        "    else:\n",
        "      print(\"Invalid pin\")\n",
        "      self.menu()\n",
        "\n",
        "  def withdraw(self):\n",
        "    user_pin=input(\"Enter your pin: \")\n",
        "    if(user_pin==self.pin):\n",
        "      amount=int(input(\"Enter amount: \"))\n",
        "      if(amount<=self.balance):\n",
        "        self.balance=self.balance-amount\n",
        "        print(\"Amount withdrawn successfully\")\n",
        "      else:\n",
        "        print(\"Insufficient balance\")\n",
        "      self.menu()\n",
        "    else:\n",
        "      print(\"Invalid pin\")\n",
        "      self.menu()"
      ],
      "metadata": {
        "id": "hvZxIa1tf2Ae"
      },
      "execution_count": 26,
      "outputs": []
    },
    {
      "cell_type": "code",
      "source": [
        "obj=Atm()\n",
        "print(type(obj))"
      ],
      "metadata": {
        "colab": {
          "base_uri": "https://localhost:8080/"
        },
        "id": "HkCFVOZ6p-Rc",
        "outputId": "26651ab4-e81b-4f3d-e951-660f54d7a0c7"
      },
      "execution_count": 27,
      "outputs": [
        {
          "output_type": "stream",
          "name": "stdout",
          "text": [
            "I just got executed\n",
            "\n",
            "    Hi how can I help you?\n",
            "    1. Press 1 to create pin\n",
            "    2. Press 2 to change pin\n",
            "    3. Press 3 to check balance\n",
            "    4. Press 4 to withdraw\n",
            "    5. Anything else to exit\n",
            "    1\n",
            "Enter your pin: 3456\n",
            "Enter balance: 12000\n",
            "Pin created successfully\n",
            "\n",
            "    Hi how can I help you?\n",
            "    1. Press 1 to create pin\n",
            "    2. Press 2 to change pin\n",
            "    3. Press 3 to check balance\n",
            "    4. Press 4 to withdraw\n",
            "    5. Anything else to exit\n",
            "    2\n",
            "Enter old pin: 3456\n",
            "Enter new pin: 1234\n",
            "Pin changed successfully\n",
            "\n",
            "    Hi how can I help you?\n",
            "    1. Press 1 to create pin\n",
            "    2. Press 2 to change pin\n",
            "    3. Press 3 to check balance\n",
            "    4. Press 4 to withdraw\n",
            "    5. Anything else to exit\n",
            "    3\n",
            "Enter your pin: 1234\n",
            "Your balance is:  12000\n",
            "\n",
            "    Hi how can I help you?\n",
            "    1. Press 1 to create pin\n",
            "    2. Press 2 to change pin\n",
            "    3. Press 3 to check balance\n",
            "    4. Press 4 to withdraw\n",
            "    5. Anything else to exit\n",
            "    4\n",
            "Enter your pin: 1234\n",
            "Enter amount: 5000\n",
            "Amount withdrawn successfully\n",
            "\n",
            "    Hi how can I help you?\n",
            "    1. Press 1 to create pin\n",
            "    2. Press 2 to change pin\n",
            "    3. Press 3 to check balance\n",
            "    4. Press 4 to withdraw\n",
            "    5. Anything else to exit\n",
            "    3\n",
            "Enter your pin: 1234\n",
            "Your balance is:  7000\n",
            "\n",
            "    Hi how can I help you?\n",
            "    1. Press 1 to create pin\n",
            "    2. Press 2 to change pin\n",
            "    3. Press 3 to check balance\n",
            "    4. Press 4 to withdraw\n",
            "    5. Anything else to exit\n",
            "    8\n",
            "<class '__main__.Atm'>\n"
          ]
        }
      ]
    },
    {
      "cell_type": "code",
      "source": [],
      "metadata": {
        "colab": {
          "base_uri": "https://localhost:8080/"
        },
        "id": "tu9LrsbaqDaL",
        "outputId": "8af91210-df5f-4002-bed6-8f628d5f43c4"
      },
      "execution_count": 12,
      "outputs": [
        {
          "output_type": "stream",
          "name": "stdout",
          "text": [
            "I just got executed\n",
            "<class '__main__.Atm'>\n"
          ]
        }
      ]
    }
  ]
}